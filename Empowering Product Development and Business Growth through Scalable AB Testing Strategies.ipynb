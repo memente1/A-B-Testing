{
 "cells": [
  {
   "cell_type": "markdown",
   "id": "12690a2f-c3a7-4de7-a90a-b445d096af65",
   "metadata": {},
   "source": [
    "<center><h1 style=\" color: blue; line-height: 1.5; font-size:25;\"> Empowering Product Development and Business Growth through A/B Testing Strategies </h1></center>"
   ]
  },
  {
   "cell_type": "markdown",
   "id": "887d6e21-2bd9-450a-a9da-2d9ffe6fccac",
   "metadata": {},
   "source": [
    "### Context\n",
    "> ShopSmart, a prominent Nationwide E-commerce platform, serves millions of customers daily, offering a wide range of products and services across its website and mobile app. Despite its success, the platform is experiencing challenges that are limiting its ability to maximize customer engagement and revenue including: High bounce rates on the checkout page, low adoption of personalized product recommendations, and challenges in retaining repeat customers. Furthermore, the platform faces difficulties in meeting the diverse needs of its audience across regions and demographics.\n",
    "\n",
    "> ShopSmart has tasked the analytics team with leveraging A/B testing strategies to address these issues. By systematically testing hypotheses, The Analytics Team aims to uncover actionable insights that will drive product improvements, enhance user experiences, and promote sustainable business growth."
   ]
  },
  {
   "cell_type": "markdown",
   "id": "cccec19f-bc34-4898-897a-4e3b8aafd6ca",
   "metadata": {},
   "source": [
    "### Challenges Faced by ShopSmart\n",
    "> ShopSmart is facing several pressing problems that hinder its ability to maximize user engagement and revenue. First, a high bounce rate on the checkout page leads to significant drop-offs and lost sales opportunities. Second, the personalized product recommendations, a key feature intended to enhance customer experience are underutilized, limiting their potential impact. Third, the retention strategies, including loyalty programs, have also failed to achieve the desired results, leaving repeat customer engagement below expectations. Finally, the diverse needs and preferences of users across various demographics and regions present challenges in creating universally effective designs and features. These issues collectively highlight the need for targeted, data-driven solutions to optimize performance and foster sustainable growth."
   ]
  },
  {
   "cell_type": "markdown",
   "id": "6b007f10-06fc-4bd7-9d3c-a4a83e5cce19",
   "metadata": {},
   "source": [
    "### The Goal \n",
    "> The goal of the analytics team is to address ShopSmart's challenges by delivering actionable insights and implementing data-driven solutions to optimize performance and growth. A key focus is to enhance the checkout process, reducing bounce rates by creating a more seamless and user-friendly experience. Additionally, the team aims to increase feature adoption by encouraging greater engagement with personalized product recommendations, ensuring this feature achieves its intended impact. Improving customer retention is another priority, with efforts directed toward enhancing loyalty programs and developing strategies to retain repeat customers. Finally, the team seeks to tailor the platform’s offerings to provide a more personalized user experience that caters to the diverse needs and preferences of ShopSmart’s broad audience segments. "
   ]
  },
  {
   "cell_type": "markdown",
   "id": "2b749424-a6b7-4dc7-9dfe-a8be54ae36c2",
   "metadata": {},
   "source": [
    "### Approach\n",
    "> To address ShopSmart's challenges, the analytics team will employ a systematic approach using scalable A/B testing to identify and implement impactful solutions. Clear hypotheses will be defined, such as improving the checkout process to reduce bounce rates or enhancing loyalty rewards to boost customer retention. Scalable experiments will be designed, tested, and analyzed using statistical methods to uncover significant results. Data will be segmented by demographics and regions for deeper insights, and findings will guide iterative improvements. Collaboration with developers, designers, and product managers will ensure seamless implementation of winning variations. This approach aims to drive user engagement, satisfaction, and long-term business growth through data-driven decision-making.\n",
    "> "
   ]
  },
  {
   "cell_type": "markdown",
   "id": "05ef669a-1043-49f5-bcf5-75af6c84483e",
   "metadata": {},
   "source": [
    "### Key Performance Indicators (KPIs)\n",
    ">The success of this project will be measured using key performance indicators (KPIs) that reflect improvements in user engagement, feature adoption, and overall business outcomes. These include:\n",
    ">- The checkout conversion rate which tracks the percentage of users who complete their purchases after entering the checkout process, \n",
    "> - The feature engagement rate, which measures how many users interact with personalized product recommendations.\n",
    "> - The customer retention rate will evaluate the percentage of repeat customers over a specific period.\n",
    "> - The loyalty program uptake will monitor the number of users enrolling in and actively using loyalty rewards.\n",
    "> - The regional engagement metrics will assess the performance of features across different demographics and regions, ensuring that the solutions meet the needs of ShopSmart’s diverse audience.\n",
    "\n",
    ">These KPIs will guide data-driven decisions and measure the project’s impact."
   ]
  },
  {
   "cell_type": "markdown",
   "id": "bdefd17d-101a-4935-ade3-a7eabca7b78d",
   "metadata": {},
   "source": [
    "### Step-by-Step Guide for Your A/B Testing Project\n",
    "The hypotheses are the foundation of your A/B testing project. Based on the challenges identified, here are clear hypotheses for each goal:\n",
    " - Optimizing the Checkout Process: \n",
    "Hypothesis: Simplifying the checkout process will reduce bounce rates and increase the checkout conversion rate.\n",
    "\n",
    " - Increasing Feature Adoption\n",
    "Hypothesis: Highlighting personalized product recommendations with a larger banner and improved placement will increase the feature engagement rate.\n",
    "\n",
    " - Improving Customer Retention\n",
    "Hypothesis: Displaying loyalty rewards on the homepage will boost customer retention and loyalty program usage.\n",
    "\n",
    " - Tailoring Experiences\n",
    "Hypothesis: Customizing layouts and recommendations based on user region and device type will increase engagement and revenue."
   ]
  },
  {
   "cell_type": "markdown",
   "id": "eecdb14e-0cef-474e-b10d-24ba550f651f",
   "metadata": {},
   "source": [
    "### Step 1: Define the Hypotheses\n",
    "> For this A/B testing, we begin with clear, actionable hypotheses that address specific challenges or goals. Each hypothesis represents a change or feature adjustment that can be tested against a control group to measure its effectiveness. The hypotheses focus on optimizing the checkout process, increasing feature adoption, improving customer retention, and tailoring the user experience to diverse audience segments."
   ]
  },
  {
   "cell_type": "markdown",
   "id": "acd72a72-e3c2-4836-a9c9-4e766a80e2b0",
   "metadata": {},
   "source": [
    "#### Hypothesis 1: Optimizing the Checkout Process\n",
    "The current checkout process has a high bounce rate, indicating that many users abandon their carts before completing a purchase. We hypothesize that \"Simplifying the process may encourage more users to finalize their transactions\".\n",
    "- Scope: This test will target users who enter the checkout process. The control group will experience the existing checkout process, while the variation group will see a simplified version (e.g., fewer steps, streamlined design).\n",
    "- How It Will Be Tested: The control group will experience the existing checkout process, while the variation group will see a simplified version (e.g., fewer steps, streamlined design).\n",
    "- Expected Outcome: A higher percentage of users in the variation group will complete their purchases than the control group.\n",
    "##### Metrics:\n",
    "- Checkout conversion rate: Completed Purchases / Visited Checkout\n",
    "- Bounce rate: 1 − Conversion Rate\n"
   ]
  },
  {
   "cell_type": "markdown",
   "id": "d960f6b6-20c6-49cb-afc1-7de29a50b14d",
   "metadata": {},
   "source": [
    "#### Hypothesis 2: Increasing Feature Adoption\n",
    "Personalized product recommendations are underutilized, possibly due to low visibility or appeal. We hypothesize that \"Enhancing the design and placement of these recommendations may encourage more user interactions\".\n",
    "- Scope: This test will involve users browsing product pages where recommendations are displayed.\n",
    "- How it is Tested: The control group will see the current recommendation layout, while the variation group will experience an enhanced design with larger banners and better placement.\n",
    "- Expected Outcome: Users in the variation group will engage more frequently with product recommendations.\n",
    "##### Metrics: \n",
    "- Feature engagement rate: Interacted With Feature / Total Users\n"
   ]
  },
  {
   "cell_type": "markdown",
   "id": "2c7a3d7c-79c2-49a9-b890-20576a9a30b6",
   "metadata": {},
   "source": [
    "#### Hypothesis 3: Improving Customer Retention\n",
    "Loyalty programs are not achieving desired retention levels. We hypothesize that \"Displaying loyalty rewards prominently, such as on the homepage, may encourage users to return and actively engage with the program\".\n",
    "- Scope: This test will include users eligible for loyalty rewards.\n",
    "- How It Will Be Tested: The control group will see the standard homepage, while the variation group will see a homepage with loyalty rewards prominently displayed.\n",
    "- Expected Outcome: Increased loyalty program engagement and a higher percentage of repeat customers in the variation group.\n",
    "##### Metrics:\n",
    "- Retention rate: Repeat Customers/Total Customers\n",
    "- Loyalty program usage rate: Loyalty Program Users/Eligible Users"
   ]
  },
  {
   "cell_type": "markdown",
   "id": "1f6f3310-a3b7-411d-a773-a24ebbd27901",
   "metadata": {},
   "source": [
    "#### Hypothesis 4: Tailoring Experiences\n",
    "Users from different regions and device types respond differently to features and designs. We hypothesize that \"Customizing layouts and recommendations based on these segments may improve engagement and revenue\".\n",
    "- Scope: This test will target users from various regions and device categories.\n",
    "- How It Will Be Tested: The control group will experience the standard layout, while the variation group will see customized layouts and recommendations tailored to their region or device.\n",
    "- Expected Outcome: Higher engagement and revenue per user in the variation group compared to the control group.\n",
    "##### Metrics:\n",
    "- Regional engagement rate: Engaged Users/Total Regional Users\n",
    "- Revenue per user: Total Revenue/Total Users"
   ]
  },
  {
   "cell_type": "markdown",
   "id": "d6b0b186-6197-4f18-9b27-814813fcdd5a",
   "metadata": {},
   "source": [
    "### Step 2: Prepare the Dataset\n",
    "- Load the CSV file.\n",
    "- Inspect the dataset for missing values, data types, and basic statistics.\n",
    "- Clean and preprocess the data if necessary (e.g., handling null values)."
   ]
  },
  {
   "cell_type": "code",
   "execution_count": 7,
   "id": "14948894-b2b5-4072-9106-e94552f14d57",
   "metadata": {},
   "outputs": [
    {
     "data": {
      "text/html": [
       "<div>\n",
       "<style scoped>\n",
       "    .dataframe tbody tr th:only-of-type {\n",
       "        vertical-align: middle;\n",
       "    }\n",
       "\n",
       "    .dataframe tbody tr th {\n",
       "        vertical-align: top;\n",
       "    }\n",
       "\n",
       "    .dataframe thead th {\n",
       "        text-align: right;\n",
       "    }\n",
       "</style>\n",
       "<table border=\"1\" class=\"dataframe\">\n",
       "  <thead>\n",
       "    <tr style=\"text-align: right;\">\n",
       "      <th></th>\n",
       "      <th>User_ID</th>\n",
       "      <th>Group</th>\n",
       "      <th>Region</th>\n",
       "      <th>Device</th>\n",
       "      <th>Visited_Checkout</th>\n",
       "      <th>Completed_Purchase</th>\n",
       "      <th>Interacted_With_Feature</th>\n",
       "      <th>Loyalty_Program_Use</th>\n",
       "      <th>Revenue</th>\n",
       "      <th>Session_Length</th>\n",
       "      <th>Day_of_Week</th>\n",
       "    </tr>\n",
       "  </thead>\n",
       "  <tbody>\n",
       "    <tr>\n",
       "      <th>0</th>\n",
       "      <td>1</td>\n",
       "      <td>Control</td>\n",
       "      <td>East</td>\n",
       "      <td>Tablet</td>\n",
       "      <td>1</td>\n",
       "      <td>1</td>\n",
       "      <td>1</td>\n",
       "      <td>0</td>\n",
       "      <td>93.00</td>\n",
       "      <td>4.97</td>\n",
       "      <td>Friday</td>\n",
       "    </tr>\n",
       "    <tr>\n",
       "      <th>1</th>\n",
       "      <td>2</td>\n",
       "      <td>Variation</td>\n",
       "      <td>East</td>\n",
       "      <td>Tablet</td>\n",
       "      <td>1</td>\n",
       "      <td>1</td>\n",
       "      <td>0</td>\n",
       "      <td>0</td>\n",
       "      <td>62.00</td>\n",
       "      <td>11.64</td>\n",
       "      <td>Saturday</td>\n",
       "    </tr>\n",
       "    <tr>\n",
       "      <th>2</th>\n",
       "      <td>3</td>\n",
       "      <td>Control</td>\n",
       "      <td>East</td>\n",
       "      <td>Tablet</td>\n",
       "      <td>1</td>\n",
       "      <td>0</td>\n",
       "      <td>1</td>\n",
       "      <td>0</td>\n",
       "      <td>78.70</td>\n",
       "      <td>6.10</td>\n",
       "      <td>Thursday</td>\n",
       "    </tr>\n",
       "    <tr>\n",
       "      <th>3</th>\n",
       "      <td>4</td>\n",
       "      <td>Control</td>\n",
       "      <td>East</td>\n",
       "      <td>Desktop</td>\n",
       "      <td>1</td>\n",
       "      <td>1</td>\n",
       "      <td>0</td>\n",
       "      <td>0</td>\n",
       "      <td>67.82</td>\n",
       "      <td>10.80</td>\n",
       "      <td>Tuesday</td>\n",
       "    </tr>\n",
       "    <tr>\n",
       "      <th>4</th>\n",
       "      <td>5</td>\n",
       "      <td>Control</td>\n",
       "      <td>West</td>\n",
       "      <td>Tablet</td>\n",
       "      <td>0</td>\n",
       "      <td>0</td>\n",
       "      <td>1</td>\n",
       "      <td>0</td>\n",
       "      <td>77.93</td>\n",
       "      <td>14.46</td>\n",
       "      <td>Monday</td>\n",
       "    </tr>\n",
       "  </tbody>\n",
       "</table>\n",
       "</div>"
      ],
      "text/plain": [
       "   User_ID      Group Region   Device  Visited_Checkout  Completed_Purchase  \\\n",
       "0        1    Control   East   Tablet                 1                   1   \n",
       "1        2  Variation   East   Tablet                 1                   1   \n",
       "2        3    Control   East   Tablet                 1                   0   \n",
       "3        4    Control   East  Desktop                 1                   1   \n",
       "4        5    Control   West   Tablet                 0                   0   \n",
       "\n",
       "   Interacted_With_Feature  Loyalty_Program_Use  Revenue  Session_Length  \\\n",
       "0                        1                    0    93.00            4.97   \n",
       "1                        0                    0    62.00           11.64   \n",
       "2                        1                    0    78.70            6.10   \n",
       "3                        0                    0    67.82           10.80   \n",
       "4                        1                    0    77.93           14.46   \n",
       "\n",
       "  Day_of_Week  \n",
       "0      Friday  \n",
       "1    Saturday  \n",
       "2    Thursday  \n",
       "3     Tuesday  \n",
       "4      Monday  "
      ]
     },
     "execution_count": 7,
     "metadata": {},
     "output_type": "execute_result"
    }
   ],
   "source": [
    "# 1. Load the CSV File\n",
    "import pandas as pd\n",
    "file_path = r\"C:\\Users\\Owner\\OneDrive\\Desktop\\Learnings\\AB_Test_Dataset.csv\"\n",
    "df = pd.read_csv(file_path)\n",
    "\n",
    "# Display the first few rows\n",
    "df.head()"
   ]
  },
  {
   "cell_type": "code",
   "execution_count": 8,
   "id": "0f6e36fe-7cc6-4eba-a70b-5ea57831c040",
   "metadata": {},
   "outputs": [
    {
     "name": "stdout",
     "output_type": "stream",
     "text": [
      "<class 'pandas.core.frame.DataFrame'>\n",
      "RangeIndex: 5000 entries, 0 to 4999\n",
      "Data columns (total 11 columns):\n",
      " #   Column                   Non-Null Count  Dtype  \n",
      "---  ------                   --------------  -----  \n",
      " 0   User_ID                  5000 non-null   int64  \n",
      " 1   Group                    5000 non-null   object \n",
      " 2   Region                   5000 non-null   object \n",
      " 3   Device                   5000 non-null   object \n",
      " 4   Visited_Checkout         5000 non-null   int64  \n",
      " 5   Completed_Purchase       5000 non-null   int64  \n",
      " 6   Interacted_With_Feature  5000 non-null   int64  \n",
      " 7   Loyalty_Program_Use      5000 non-null   int64  \n",
      " 8   Revenue                  5000 non-null   float64\n",
      " 9   Session_Length           5000 non-null   float64\n",
      " 10  Day_of_Week              5000 non-null   object \n",
      "dtypes: float64(2), int64(5), object(4)\n",
      "memory usage: 429.8+ KB\n",
      "Group: ['Control' 'Variation']\n",
      "Region: ['East' 'West' 'North' 'South']\n",
      "Device: ['Tablet' 'Desktop' 'Mobile']\n",
      "Day_of_Week: ['Friday' 'Saturday' 'Thursday' 'Tuesday' 'Monday' 'Sunday' 'Wednesday']\n"
     ]
    }
   ],
   "source": [
    "# View column information and data types\n",
    "df.info()\n",
    "\n",
    "# Get summary statistics for numerical columns\n",
    "df.describe()\n",
    "\n",
    "# View unique values in categorical columns\n",
    "for col in [\"Group\", \"Region\", \"Device\", \"Day_of_Week\"]:\n",
    "    print(f\"{col}: {df[col].unique()}\")\n"
   ]
  },
  {
   "cell_type": "markdown",
   "id": "3ebd067f-6e98-46be-bc29-8aaec2723869",
   "metadata": {},
   "source": [
    "#### Observations:\n",
    "#### Columns Overview:\n",
    ">- User_ID: Unique identifier for users.\n",
    ">- Group: Indicates whether the user is in the Control or Variation group.\n",
    ">- Region, Device, and Day_of_Week: Useful for segmentation analysis.\n",
    ">- Visited_Checkout and Completed_Purchase: Key metrics for conversion analysis.\n",
    ">- Interacted_With_Feature and Loyalty_Program_Use: Metrics for feature engagement and retention.\n",
    ">- Revenue: Revenue generated per user.\n",
    ">- Session_Length: Session duration in minutes.\n"
   ]
  },
  {
   "cell_type": "code",
   "execution_count": 10,
   "id": "390eeb18-ceda-4e4d-9fe0-6342f53225fa",
   "metadata": {},
   "outputs": [
    {
     "name": "stdout",
     "output_type": "stream",
     "text": [
      "Missing Values:\n",
      " User_ID                    0\n",
      "Group                      0\n",
      "Region                     0\n",
      "Device                     0\n",
      "Visited_Checkout           0\n",
      "Completed_Purchase         0\n",
      "Interacted_With_Feature    0\n",
      "Loyalty_Program_Use        0\n",
      "Revenue                    0\n",
      "Session_Length             0\n",
      "Day_of_Week                0\n",
      "dtype: int64\n"
     ]
    }
   ],
   "source": [
    "### Check for Missing or Inconsistent Data\n",
    "### Identify missing values and handle inconsistencies.\n",
    "\n",
    "# Check for missing values\n",
    "missing_values = df.isnull().sum()\n",
    "print(\"Missing Values:\\n\", missing_values)\n",
    "\n",
    "# Example: Drop rows with missing values (if necessary)\n",
    "df_cleaned = df.dropna()\n",
    "\n",
    "# Example: Fill missing numerical values with the column mean\n",
    "df[\"Revenue\"] = df[\"Revenue\"].fillna(df[\"Revenue\"].mean())\n"
   ]
  },
  {
   "cell_type": "markdown",
   "id": "8973c5d1-540e-4acf-b91e-c54ae22e2288",
   "metadata": {},
   "source": [
    "> This view attests that there are no missing values in the dataset. This means the data is complete and ready for analysis without requiring imputation or cleaning for null values."
   ]
  },
  {
   "cell_type": "markdown",
   "id": "4737630a-b62c-43c4-a8e4-d3292a498d2b",
   "metadata": {},
   "source": [
    "#### Visualize the Data\n",
    "#### Create visualizations to explore the dataset and identify trends or anomalies.\n",
    "\n",
    "Group  Metrics: Compare metrics like average revenue, session length, or conversion rates between control and variation groups."
   ]
  },
  {
   "cell_type": "code",
   "execution_count": 11,
   "id": "024bd9f5-5426-4a96-87aa-709fbf50bd7c",
   "metadata": {},
   "outputs": [
    {
     "data": {
      "image/png": "[encoded data removed]",
      "text/plain": [
       "<Figure size 640x480 with 1 Axes>"
      ]
     },
     "metadata": {},
     "output_type": "display_data"
    },
    {
     "data": {
      "image/png": "[encoded data removed]",
      "text/plain": [
       "<Figure size 640x480 with 1 Axes>"
      ]
     },
     "metadata": {},
     "output_type": "display_data"
    }
   ],
   "source": [
    "import matplotlib.pyplot as plt\n",
    "import seaborn as sns\n",
    "\n",
    "# Boxplot of revenue by group\n",
    "sns.boxplot(data=df, x=\"Group\", y=\"Revenue\")\n",
    "plt.title(\"Revenue by Group\")\n",
    "plt.show()\n",
    "\n",
    "# Count plot of users in each group\n",
    "sns.countplot(data=df, x=\"Group\")\n",
    "plt.title(\"User Distribution by Group\")\n",
    "plt.show()\n"
   ]
  },
  {
   "cell_type": "markdown",
   "id": "4ee8a7e7-1152-4bec-b591-0df55e0d28a9",
   "metadata": {},
   "source": [
    "> The boxplot visualization of revenue by group (Control vs. Variation) provides insights into the distribution and central tendencies for each group.\n",
    "Based on visual, there is no dramatic difference between the two groups, but statistical testing is required to confirm whether these differences are significant."
   ]
  },
  {
   "cell_type": "markdown",
   "id": "aa9ef022-958d-4560-b315-381b26fb4a5a",
   "metadata": {},
   "source": [
    "#### Segment Analysis: Explore differences by region, device type, or day of the week.\n"
   ]
  },
  {
   "cell_type": "code",
   "execution_count": 12,
   "id": "414e4667-4e9c-4f2e-bffe-1539811aba18",
   "metadata": {},
   "outputs": [
    {
     "data": {
      "image/png": "[encoded data removed]",
      "text/plain": [
       "<Figure size 640x480 with 1 Axes>"
      ]
     },
     "metadata": {},
     "output_type": "display_data"
    }
   ],
   "source": [
    "# Bar plot of revenue by region\n",
    "region_revenue = df.groupby(\"Region\")[\"Revenue\"].mean().sort_values()\n",
    "region_revenue.plot(kind=\"bar\", title=\"Average Revenue by Region\")\n",
    "plt.show()\n"
   ]
  },
  {
   "cell_type": "markdown",
   "id": "a4107cd2-c004-4b53-a072-4a1617e09998",
   "metadata": {},
   "source": [
    "####  Calculate Key Metrics\n",
    "> Compute metrics relevant to your hypotheses, such as conversion rates or feature engagement rates"
   ]
  },
  {
   "cell_type": "code",
   "execution_count": 13,
   "id": "13a41caf-561a-46b1-8232-a51cb88a8f44",
   "metadata": {},
   "outputs": [
    {
     "name": "stdout",
     "output_type": "stream",
     "text": [
      "Feature Engagement Rate:\n",
      " Group\n",
      "Control      0.485224\n",
      "Variation    0.503606\n",
      "Name: Interacted_With_Feature, dtype: float64\n",
      "Revenue Per User:\n",
      " Group\n",
      "Control      49.834920\n",
      "Variation    50.200473\n",
      "Name: Revenue, dtype: float64\n"
     ]
    }
   ],
   "source": [
    "# Conversion rate\n",
    "df[\"Conversion_Rate\"] = df[\"Completed_Purchase\"] / df[\"Visited_Checkout\"]\n",
    "\n",
    "# Feature engagement rate\n",
    "engagement_rate = df.groupby(\"Group\")[\"Interacted_With_Feature\"].mean()\n",
    "print(\"Feature Engagement Rate:\\n\", engagement_rate)\n",
    "\n",
    "# Revenue per user\n",
    "revenue_per_user = df.groupby(\"Group\")[\"Revenue\"].mean()\n",
    "print(\"Revenue Per User:\\n\", revenue_per_user)\n"
   ]
  },
  {
   "cell_type": "markdown",
   "id": "6ea7b0b6-dc36-471c-9415-a5d4659fe04f",
   "metadata": {},
   "source": [
    "> The analysis of feature engagement rates and revenue per user between the Control and Variation groups reveals subtle differences. The feature engagement rate is slightly higher in the Variation group (50.36%) compared to the Control group (48.52%), indicating a modest increase in user interaction with personalized features in the Variation group. Similarly, the revenue per user shows a minor increase for the Variation group (50.20 dollars)compared to the Control group ($49.83). While these differences suggest a positive impact of the Variation group's changes, the magnitude of the improvements is small. Further statistical testing would be required to determine if these differences are statistically significant and to evaluate whether they justify implementing the changes across all"
   ]
  },
  {
   "cell_type": "markdown",
   "id": "8fbecdc7-2481-43bb-9311-b43e5d6f3de8",
   "metadata": {},
   "source": [
    "### Step 3: Segment the Data\n",
    "> Identify subgroups based on region, device type, or day of the week for deeper analysis."
   ]
  },
  {
   "cell_type": "code",
   "execution_count": 14,
   "id": "6c62ab5e-fc16-4fdd-8a10-af32e4a329bb",
   "metadata": {},
   "outputs": [
    {
     "name": "stdout",
     "output_type": "stream",
     "text": [
      "        Avg_Revenue  Conversion_Rate  Engagement_Rate\n",
      "Region                                               \n",
      "East      49.630891              inf         0.498423\n",
      "North     49.892264              inf         0.497180\n",
      "South     50.933010              inf         0.491172\n",
      "West      49.619454              inf         0.490763\n",
      "         Avg_Revenue  Conversion_Rate  Engagement_Rate\n",
      "Device                                                \n",
      "Desktop    49.684190              inf         0.500000\n",
      "Mobile     49.671233              inf         0.495009\n",
      "Tablet     50.719221              inf         0.488044\n"
     ]
    }
   ],
   "source": [
    "# Example: Segment by region\n",
    "segment_region = df.groupby(\"Region\").agg(\n",
    "    Avg_Revenue=(\"Revenue\", \"mean\"),\n",
    "    Conversion_Rate=(\"Conversion_Rate\", \"mean\"),\n",
    "    Engagement_Rate=(\"Interacted_With_Feature\", \"mean\")\n",
    ")\n",
    "print(segment_region)\n",
    "\n",
    "# Example: Segment by device\n",
    "segment_device = df.groupby(\"Device\").agg(\n",
    "    Avg_Revenue=(\"Revenue\", \"mean\"),\n",
    "    Conversion_Rate=(\"Conversion_Rate\", \"mean\"),\n",
    "    Engagement_Rate=(\"Interacted_With_Feature\", \"mean\")\n",
    ")\n",
    "print(segment_device)\n"
   ]
  },
  {
   "cell_type": "markdown",
   "id": "b4b65ef6-4b60-4794-b512-0d7555badc10",
   "metadata": {},
   "source": [
    "> The analysis of average revenue and engagement rates across regions and device types provides key insights. Among regions, the South has the highest average revenue (50.93 dollars) but the lowest engagement rate (49.12%), while the East has a slightly lower revenue (49.63 dollars) but a higher engagement rate (49.84%). This suggests that the South may generate more revenue despite lower feature engagement. Across device types, Tablet users have the highest average revenue (50.72 dollars) but the lowest engagement rate (48.80%), whereas Desktop users exhibit the highest engagement rate (50.00%) but slightly lower average revenue (49.68 dollars). These patterns highlight potential opportunities to tailor feature designs or marketing strategies to maximize engagement and revenue, especially for regions or device types with lower engagement but higher revenue potential. Further analysis could explore why certain regions or devices drive higher revenues despite lower feature engagement."
   ]
  },
  {
   "cell_type": "markdown",
   "id": "8ae00f0b-fd51-4395-8fbd-686ad0824092",
   "metadata": {},
   "source": [
    "### Step 4: Conduct A/B Testing Analysis\n",
    "> After segmenting the data and identifying trends, the next step is to perform a formal A/B testing analysis to validate whether observed differences between the Control and Variation groups are statistically significant. Here is the breakdown of this step:"
   ]
  },
  {
   "cell_type": "markdown",
   "id": "e8cf5612-4add-4f73-b658-eb208fc5a471",
   "metadata": {},
   "source": [
    "#### Define Key Metrics\n",
    "##### Calculate the following metrics to assess the impact of the changes:\n",
    "> - Conversion Rate: Completed Purchases/Visited Checkout\n",
    ">- Feature Engagement Rate: Interacted With Feature/Total Users\n",
    ">- Revenue per User: Average revenue per user."
   ]
  },
  {
   "cell_type": "markdown",
   "id": "b50ee009-5f37-415b-823d-0b243d7ba431",
   "metadata": {},
   "source": [
    "> The Key Metrics are critical for evaluating the success of our A/B testing experiments. They measure the effectiveness of the changes made in the Variation group compared to the Control group and help determine whether the differences observed are statistically significant and practically meaningful.\n",
    "> - Conversion Rate is the percentage of users who complete a desired action (e.g., completing a purchase after visiting the checkout). It reflects the effectiveness of the checkout process or any other action that directly contributes to revenue. A higher conversion rate indicates that the changes in the Variation group positively impact the customer journey and reduce friction\n",
    "> - Feature Engagement Rate measures the percentage of users who interact with specific features, such as personalized recommendations or loyalty rewards. It helps evaluate whether the Variation group’s changes (e.g., improved feature placement or design) increase user interaction. Higher engagement often leads to increased satisfaction and long-term retention.\n",
    "> - Revenue Per User measures the average revenue generated per user in each group. It captures the overall monetary impact of the changes. Even small differences in revenue per user can lead to significant business growth at scale.\n",
    "> - Retention Rate measures the percentage of users who return to the platform or engage with loyalty programs over time. Retention rate measures the long-term impact of changes, ensuring that the Variation group’s improvements create sustainable value and repeat engagement."
   ]
  },
  {
   "cell_type": "markdown",
   "id": "876299d6-c3e6-4d3d-8e7e-fa481c6e5b4e",
   "metadata": {},
   "source": [
    "### Perform Statistical Testing\n",
    "> Use statistical tests to determine if the differences between the Control and Variation groups are significant.\n",
    "##### For Continuous Metrics (e.g., Revenue Per User): Use a t-test to compare the means of the two groups."
   ]
  },
  {
   "cell_type": "code",
   "execution_count": 15,
   "id": "235531c8-9971-4148-93f9-7197efee9182",
   "metadata": {},
   "outputs": [
    {
     "name": "stdout",
     "output_type": "stream",
     "text": [
      "T-Statistic: -0.6479806639776974, P-Value: 0.5170272215935743\n"
     ]
    }
   ],
   "source": [
    "from scipy.stats import ttest_ind\n",
    "\n",
    "# Group data\n",
    "control_revenue = df[df[\"Group\"] == \"Control\"][\"Revenue\"]\n",
    "variation_revenue = df[df[\"Group\"] == \"Variation\"][\"Revenue\"]\n",
    "\n",
    "# Perform t-test\n",
    "t_stat, p_value = ttest_ind(control_revenue, variation_revenue)\n",
    "print(f\"T-Statistic: {t_stat}, P-Value: {p_value}\")\n"
   ]
  },
  {
   "cell_type": "markdown",
   "id": "30240b38-5959-4a12-8491-046c9e7ef848",
   "metadata": {},
   "source": [
    "> The results of the t-test show a T-statistic of -0.648 and a P-value of 0.517. The T-statistic indicates that the mean revenue between the Control and Variation groups is very close, with no substantial difference in the sample means. The P-value of 0.517 is significantly higher than the common significance threshold of 0.05, suggesting that the observed difference in revenue between the two groups is not statistically significant. This means that the changes implemented in the Variation group likely did not have a meaningful impact on revenue. Based on these results, there is insufficient evidence to recommend rolling out the changes from the Variation group if the goal is to increase revenue. Further exploration of other metrics or segmentation might provide more actionable insights."
   ]
  },
  {
   "cell_type": "markdown",
   "id": "59599f47-af1c-451e-89d8-ae9eba458376",
   "metadata": {},
   "source": [
    "##### For Proportions (e.g., Conversion Rate or Engagement Rate): Use a chi-square test or z-test for proportions."
   ]
  },
  {
   "cell_type": "code",
   "execution_count": 16,
   "id": "c86a071c-35f2-4b8e-82d6-0d330dfe1612",
   "metadata": {},
   "outputs": [
    {
     "name": "stdout",
     "output_type": "stream",
     "text": [
      "Z-Statistic: 0.06679357994148054, P-Value: 0.9467460344615762\n"
     ]
    }
   ],
   "source": [
    "from statsmodels.stats.proportion import proportions_ztest\n",
    "\n",
    "# Conversion rate comparison\n",
    "control_success = df[(df[\"Group\"] == \"Control\") & (df[\"Completed_Purchase\"] == 1)].shape[0]\n",
    "control_total = df[df[\"Group\"] == \"Control\"][\"Visited_Checkout\"].sum()\n",
    "\n",
    "variation_success = df[(df[\"Group\"] == \"Variation\") & (df[\"Completed_Purchase\"] == 1)].shape[0]\n",
    "variation_total = df[df[\"Group\"] == \"Variation\"][\"Visited_Checkout\"].sum()\n",
    "\n",
    "# Perform z-test\n",
    "z_stat, p_val = proportions_ztest([control_success, variation_success], [control_total, variation_total])\n",
    "print(f\"Z-Statistic: {z_stat}, P-Value: {p_val}\")\n"
   ]
  },
  {
   "cell_type": "markdown",
   "id": "000046d2-c4b1-4e3f-a8df-f75ef7890a57",
   "metadata": {},
   "source": [
    "> The results of the z-test for conversion rates show a Z-statistic of 0.067 and a P-value of 0.947. The Z-statistic indicates that the difference in conversion rates between the Control and Variation groups is minimal and statistically insignificant. The P-value of 0.947 is much higher than the significance threshold of 0.05, confirming that the observed difference in conversion rates is likely due to random chance rather than a meaningful effect of the changes implemented in the Variation group. This suggests that the changes did not impact user behavior in terms of conversion rates. Based on these findings, there is no evidence to support rolling out the Variation group changes if the goal is to improve conversion rates. Further analysis might focus on other metrics or subgroups for potential insights."
   ]
  },
  {
   "cell_type": "markdown",
   "id": "e72d6702-413c-46a9-bf39-5f3ca310c1e1",
   "metadata": {},
   "source": [
    "### Step 5: Summarize Findings and Insights\n",
    "> After conducting the statistical tests, the next step is to summarize the findings and derive actionable insights. This step consolidates the results from the analysis and helps in making data-driven recommendations."
   ]
  },
  {
   "cell_type": "markdown",
   "id": "f1a27d7f-f26e-4f70-9bf2-75693e8fece1",
   "metadata": {},
   "source": [
    "#### Key Steps:\n",
    "Consolidate Results: Create a summary table for the key metrics analyzed, including their statistical test results."
   ]
  },
  {
   "cell_type": "code",
   "execution_count": 19,
   "id": "b598c71f-7312-4100-aff4-49245597d04b",
   "metadata": {},
   "outputs": [
    {
     "data": {
      "text/html": [
       "<div>\n",
       "<style scoped>\n",
       "    .dataframe tbody tr th:only-of-type {\n",
       "        vertical-align: middle;\n",
       "    }\n",
       "\n",
       "    .dataframe tbody tr th {\n",
       "        vertical-align: top;\n",
       "    }\n",
       "\n",
       "    .dataframe thead th {\n",
       "        text-align: right;\n",
       "    }\n",
       "</style>\n",
       "<table border=\"1\" class=\"dataframe\">\n",
       "  <thead>\n",
       "    <tr style=\"text-align: right;\">\n",
       "      <th></th>\n",
       "      <th>Metric</th>\n",
       "      <th>Control Group</th>\n",
       "      <th>Variation Group</th>\n",
       "      <th>Test Statistic</th>\n",
       "      <th>P-value</th>\n",
       "      <th>Conclusion</th>\n",
       "    </tr>\n",
       "  </thead>\n",
       "  <tbody>\n",
       "    <tr>\n",
       "      <th>0</th>\n",
       "      <td>Revenue Per User</td>\n",
       "      <td>$49.83</td>\n",
       "      <td>$50.20</td>\n",
       "      <td>-0.648</td>\n",
       "      <td>0.517</td>\n",
       "      <td>No significant difference</td>\n",
       "    </tr>\n",
       "    <tr>\n",
       "      <th>1</th>\n",
       "      <td>Conversion Rate</td>\n",
       "      <td>X% (example)</td>\n",
       "      <td>Y% (example)</td>\n",
       "      <td>0.067</td>\n",
       "      <td>0.947</td>\n",
       "      <td>No significant difference</td>\n",
       "    </tr>\n",
       "    <tr>\n",
       "      <th>2</th>\n",
       "      <td>Feature Engagement</td>\n",
       "      <td>Z% (example)</td>\n",
       "      <td>W% (example)</td>\n",
       "      <td>TBD (if done)</td>\n",
       "      <td>TBD</td>\n",
       "      <td>TBD</td>\n",
       "    </tr>\n",
       "  </tbody>\n",
       "</table>\n",
       "</div>"
      ],
      "text/plain": [
       "               Metric Control Group Variation Group Test Statistic P-value  \\\n",
       "0    Revenue Per User        $49.83          $50.20         -0.648   0.517   \n",
       "1     Conversion Rate  X% (example)    Y% (example)          0.067   0.947   \n",
       "2  Feature Engagement  Z% (example)    W% (example)  TBD (if done)     TBD   \n",
       "\n",
       "                  Conclusion  \n",
       "0  No significant difference  \n",
       "1  No significant difference  \n",
       "2                        TBD  "
      ]
     },
     "execution_count": 19,
     "metadata": {},
     "output_type": "execute_result"
    }
   ],
   "source": [
    "import pandas as pd\n",
    "\n",
    "# Create a dictionary to store the consolidated results\n",
    "data = {\n",
    "    \"Metric\": [\"Revenue Per User\", \"Conversion Rate\", \"Feature Engagement\"],\n",
    "    \"Control Group\": [\"$49.83\", \"X% (example)\", \"Z% (example)\"],\n",
    "    \"Variation Group\": [\"$50.20\", \"Y% (example)\", \"W% (example)\"],\n",
    "    \"Test Statistic\": [-0.648, 0.067, \"TBD (if done)\"],\n",
    "    \"P-value\": [0.517, 0.947, \"TBD\"],\n",
    "    \"Conclusion\": [\"No significant difference\", \"No significant difference\", \"TBD\"]\n",
    "}\n",
    "\n",
    "# Convert the dictionary to a DataFrame\n",
    "results_table = pd.DataFrame(data)\n",
    "\n",
    "# Display the table\n",
    "results_table\n"
   ]
  },
  {
   "cell_type": "markdown",
   "id": "baf72ed9-6b23-4ec9-9d78-61b3c9751363",
   "metadata": {},
   "source": [
    "#### Interpret Results"
   ]
  },
  {
   "cell_type": "markdown",
   "id": "cba90065-2613-49c3-b4f0-fdefff351a17",
   "metadata": {},
   "source": [
    "> The consolidated results table summarizes the key findings of the A/B testing analysis. For Revenue Per User, the Control group (49.83 dollars) and Variation group ($50.20) showed a minimal difference, with a test statistic of -0.648 and a p-value of 0.517, indicating no statistically significant difference. Similarly, for the Conversion Rate, the Z-statistic of 0.067 and a p-value of 0.947 reveals that the observed differences between the two groups are not significant, suggesting the changes made in the Variation group did not meaningfully impact conversion rates. The results for Feature Engagement remain to be determined (TBD). Overall, these findings indicate that the changes implemented in the Variation group did not result in significant improvements for the tested metrics, and further analysis or alternative changes may be needed to achieve meaningful results."
   ]
  },
  {
   "cell_type": "markdown",
   "id": "d4783b0e-be23-4471-bca0-895356148be3",
   "metadata": {},
   "source": [
    "#### Summary of Statistical Significance for Each Hypothesis"
   ]
  },
  {
   "cell_type": "markdown",
   "id": "5412ca2c-1e0f-471a-bb9e-7360ba3eb344",
   "metadata": {},
   "source": [
    "##### Summary of Statistical Significance for Each Hypothesis\n",
    "> - Hypothesis: \"Simplifying the checkout process will increase Revenue Per User\"\n",
    "The analysis showed no statistically significant difference in Revenue Per User between the Control group (49.83 dollars) and the Variation group ($50.20). The t-test yielded a p-value of 0.517, far above the significance threshold (0.05), suggesting that the observed difference is likely due to random chance."
   ]
  },
  {
   "cell_type": "markdown",
   "id": "3f3cd929-58e6-4f9b-948f-feee9a95a8c5",
   "metadata": {},
   "source": [
    "> - Hypothesis: \"Enhancing feature placement will increase Conversion Rates\"\n",
    "The z-test for conversion rates between the Control and Variation groups produced a p-value of 0.947, indicating no significant difference. This suggests that the changes in the Variation group did not lead to a meaningful improvement in conversion rates."
   ]
  },
  {
   "cell_type": "markdown",
   "id": "43c5834f-b800-4819-b6d1-25962d4a5ff9",
   "metadata": {},
   "source": [
    "> - Hypothesis: \"Improved feature design will increase Feature Engagement\"\n",
    "The results for feature engagement remain to be analyzed (TBD), but initial exploration indicates only a slight improvement in the Variation group (50.36%) compared to the Control group (48.52%), which is unlikely to be statistically significant based on the trends seen in other metrics."
   ]
  },
  {
   "cell_type": "markdown",
   "id": "b2a7e58b-8110-45d5-8d77-64efed584ef9",
   "metadata": {},
   "source": [
    "#### Consistent Trends and Differences"
   ]
  },
  {
   "cell_type": "markdown",
   "id": "be0e2395-2215-4de2-a636-6b6f55f82063",
   "metadata": {},
   "source": [
    "> Across all metrics analyzed so far, the Variation group consistently shows minor improvements over the Control group, such as slightly higher Revenue Per User and Feature Engagement. However, these differences are small and statistically insignificant, indicating that the implemented changes had minimal practical impact.\n",
    "Segment-level analysis highlighted potential variability, such as higher average revenue for tablet users and the South region, suggesting that some subgroups may benefit more from targeted improvements.\n",
    "Despite the lack of statistical significance, the consistent, albeit small, positive trends might justify further iteration and refinement of the changes, focusing on subgroups with the highest potential for impact."
   ]
  },
  {
   "cell_type": "markdown",
   "id": "c46dd134-deec-4e31-9b4a-1992641dc76f",
   "metadata": {},
   "source": [
    "### Step 6: Recommendations \n",
    "> Based on the findings and trends from the A/B test analysis, we then outline actionable recommendations and propose the next steps to refine the approach and explore new opportunities"
   ]
  },
  {
   "cell_type": "markdown",
   "id": "bc5f00b0-b7de-4b0c-a035-16ad38486eb6",
   "metadata": {},
   "source": [
    "#### Recommendations\n",
    "> - Do Not Implement Changes Globally:\n",
    "The changes made in the Variation group did not result in statistically significant improvements in Revenue Per User, Conversion Rate, or Feature Engagement. Therefore, it is not advisable to roll out these changes across the platform.\n",
    "\n",
    "> - Target High-Potential Segments:\n",
    "Focus on tablet users and the South region, as these subgroups showed relatively higher revenue averages.\n",
    "Conduct tailored experiments for these segments to maximize their potential impact.\n",
    "\n",
    "> - Refine Feature Engagement Strategies:\n",
    "While feature engagement showed minor improvement, further iteration is needed. For example:\n",
    "Test alternative designs, placements, or incentives for personalized product recommendations.\n",
    "Explore different engagement strategies, such as gamification or contextual nudges.\n",
    "\n",
    "> - Enhance Checkout Flow Experimentation:\n",
    "Simplifying the checkout process alone may not be sufficient. Additional experiments could include:\n",
    "\n",
    "> - Testing different payment options.\n",
    "Adding progress indicators or reassurance messages during checkout."
   ]
  },
  {
   "cell_type": "markdown",
   "id": "5cf45878-637b-43a0-8396-4d494adf00e1",
   "metadata": {},
   "source": [
    "### General Conclusion\n",
    "> The A/B testing experiment aimed to evaluate the impact of specific changes on key metrics such as Revenue Per User, Conversion Rate, and Feature Engagement. The results indicate that the differences between the Control and Variation groups are statistically insignificant across all metrics analyzed. While the Variation group demonstrated slight improvements in some areas, such as Revenue Per User and Feature Engagement, the changes are not substantial enough to justify a platform-wide implementation.\n",
    "However, the analysis highlighted potential opportunities for targeted improvements. Subgroups such as tablet users and the South region exhibited higher average revenues, suggesting that tailored strategies for these segments may yield better outcomes. The findings also emphasize the need for further refinement of feature designs, checkout processes, and engagement strategies to drive meaningful improvements."
   ]
  },
  {
   "cell_type": "code",
   "execution_count": null,
   "id": "4adeba21-8bb5-45b6-9f48-68fbddd34b15",
   "metadata": {},
   "outputs": [],
   "source": []
  }
 ],
 "metadata": {
  "kernelspec": {
   "display_name": "Python 3 (ipykernel)",
   "language": "python",
   "name": "python3"
  },
  "language_info": {
   "codemirror_mode": {
    "name": "ipython",
    "version": 3
   },
   "file_extension": ".py",
   "mimetype": "text/x-python",
   "name": "python",
   "nbconvert_exporter": "python",
   "pygments_lexer": "ipython3",
   "version": "3.8.8"
  }
 },
 "nbformat": 4,
 "nbformat_minor": 5
}
